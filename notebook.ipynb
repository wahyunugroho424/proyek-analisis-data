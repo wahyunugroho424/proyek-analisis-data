https://colab.research.google.com/drive/1O_v3stxeKAAkwa06Tshp0wyfFAlwQTrD#scrollTo=9EmW1B-mfRj0
