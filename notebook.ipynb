{
 "cells": [
  {
   "cell_type": "code",
   "execution_count": null,
   "id": "b381da86",
   "metadata": {},
   "outputs": [],
   "source": [
    "import numpy as np\n",
    "import pandas as pd\n",
    "import matplotlib.pyplot as plt\n",
    "import seaborn as sns\n",
    "import os\n",
    "\n",
    "# Gathering Data\n",
    "print(\"Gathering Data\")\n",
    "base_path = r\"C:\\Users\\Waghyu\\Documents\\coding camp\\Proyek Akhir\\E-Commerce Public Dataset\"\n",
    "customers_df = pd.read_csv(os.path.join(base_path, \"customers_dataset.csv\"))\n",
    "print(customers_df.head())\n",
    "\n",
    "# Assessing Data\n",
    "print(\"\\nAssessing Data\")\n",
    "print(customers_df.info())\n",
    "\n",
    "# Missing values\n",
    "print(\"\\nMissing Values\")\n",
    "print(customers_df.isna().sum())\n",
    "\n",
    "# Menghapus duplikasi\n",
    "customers_df.drop_duplicates(inplace=True)\n",
    "print(\"\\nJumlah duplikasi setelah dibersihkan:\", customers_df.duplicated().sum())\n",
    "\n",
    "# Menampilkan nilai unik pada kolom `customer_city`\n",
    "print(\"\\nCustomer City Counts\")\n",
    "print(customers_df.customer_city.value_counts())\n",
    "\n",
    "# Menampilkan jumlah order berdasarkan `customer_state`\n",
    "orders_df = pd.read_csv(os.path.join(base_path, \"orders_dataset.csv\"))\n",
    "orders_customers_df = pd.merge(orders_df, customers_df, on=\"customer_id\", how=\"left\")\n",
    "print(\"\\nJumlah order berdasarkan customer_state:\")\n",
    "print(orders_customers_df.groupby(\"customer_state\").order_id.nunique().sort_values(ascending=False))\n"
   ]
  }
 ],
 "metadata": {},
 "nbformat": 4,
 "nbformat_minor": 5
}
