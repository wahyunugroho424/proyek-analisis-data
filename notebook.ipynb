import numpy as np
import pandas as pd
import matplotlib.pyplot as plt
import seaborn as sns
import os

##          Data Wrigling

#1. Gathering Data
print("Gathering Data")
print("")
print("data costumer")
print("-"*15)
base_path = r"C:\Users\Waghyu\Documents\coding camp\Proyek Akhir\E-Commerce Public Dataset"
customers_df = pd.read_csv(os.path.join(base_path, "customers_dataset.csv"))
print(customers_df.head())


#2. Assessing Data (Menilai tabel)
print("")
print ("Assessing Data (Menilai tabel)")
print("-"*20)
print('')
print("data costumer info")
print("-"*15)
print(customers_df.info())
print("-"*15)
print(" ")
print("informasi terkait jumlah missing values")
print("-"*15)
print(customers_df.isna().sum())
print("-"*15)
print("")
print("-"*15)
print(" memeriksa duplikasi dan ringkasan parameter statistik dari kolom numerik pada orders_df.")
print(""*15)
print("Jumlah duplikasi: ", customers_df.duplicated().sum())
print(" ")
print("Ringkasan pada data customer")
print("-"*15)
print(customers_df.describe())

#Cleaning Data
print("")
print("Cleaning Data")
print(""*20)
# Menghilangkan duplicate data
customers_df.drop_duplicates(inplace=True)
print("")
print("-"*20)
print("Mengecek duplicate data")
print("Jumlah duplikasi: ", customers_df.duplicated().sum())
print("")
print("-"*20)
print("")
print("-"*20)
print("cara mengecek tipe data")
print(customers_df.customer_city.value_counts())
print("")
print("-"*20)
print("")
print("-"*20)
print(" memfilter DataFrame customers_df agar hanya menampilkan baris dengan nilai tertinggi pada kolom customer_zip_code.")
print(customers_df[customers_df.customer_zip_code_prefix == customers_df.customer_zip_code_prefix.max()])
print("")
print("-"*20)
print("mengganti nilai terbesar dalam kolom age dengan angka 10000")
customers_df.customer_zip_code_prefix.replace(customers_df.customer_zip_code_prefix.max(), 100000, inplace=True)
print(customers_df[customers_df.customer_zip_code_prefix == customers_df.customer_zip_code_prefix.max()])

