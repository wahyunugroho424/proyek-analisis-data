{
 "cells": [
  {
   "cell_type": "markdown",
   "id": "e3f89619",
   "metadata": {},
   "source": [
    "\n",
    "# Data Wrangling dan Eksplorasi pada Dataset E-Commerce\n",
    "\n",
    "\n"
   ]
  },
  {
   "cell_type": "markdown",
   "id": "cd9c29c5",
   "metadata": {},
   "source": [
    "## Gathering Data"
   ]
  },
  {
   "cell_type": "code",
   "execution_count": null,
   "id": "4a7df5a8",
   "metadata": {},
   "outputs": [],
   "source": [
    "\n",
    "import pandas as pd\n",
    "import os\n",
    "\n",
    "print(\"Gathering Data\")\n",
    "print(\"Data Customer\")\n",
    "customers_df = pd.read_csv(os.path.join(r\"C:\\\\Users\\\\Waghyu\\\\Documents\\\\coding camp\\\\Proyek Akhir\\\\E-Commerce Public Dataset\", \"customers_dataset.csv\"))\n",
    "print(customers_df.head())\n"
   ]
  },
  {
   "cell_type": "markdown",
   "id": "801dce31",
   "metadata": {},
   "source": [
    "## Assessing Data"
   ]
  },
  {
   "cell_type": "markdown",
   "id": "0e16f735",
   "metadata": {},
   "source": [
    "Informasi Data Customer"
   ]
  },
  {
   "cell_type": "code",
   "execution_count": null,
   "id": "e218de2e",
   "metadata": {},
   "outputs": [],
   "source": [
    "\n",
    "print(\"Assessing Data\")\n",
    "print(\"Informasi Data Customer\")\n",
    "print(customers_df.info())"
   ]
  },
  {
   "cell_type": "markdown",
   "id": "df445bfb",
   "metadata": {},
   "source": [
    "Jumlah Missing Values"
   ]
  },
  {
   "cell_type": "code",
   "execution_count": null,
   "id": "c7f2b8b6",
   "metadata": {},
   "outputs": [],
   "source": [
    "\n",
    "print(\"Jumlah Missing Values:\")\n",
    "print(customers_df.isna().sum())"
   ]
  },
  {
   "cell_type": "markdown",
   "id": "810dcbc1",
   "metadata": {},
   "source": [
    "Jumlah Missing Values"
   ]
  },
  {
   "cell_type": "code",
   "execution_count": null,
   "id": "ca43af05",
   "metadata": {},
   "outputs": [],
   "source": [
    "\n",
    "print(\"Jumlah Duplikasi:\", customers_df.duplicated().sum())"
   ]
  },
  {
   "cell_type": "markdown",
   "id": "79fc2f0f",
   "metadata": {},
   "source": [
    "Ringkasan Statistik"
   ]
  },
  {
   "cell_type": "code",
   "execution_count": null,
   "id": "21f7973a",
   "metadata": {},
   "outputs": [],
   "source": [
    "\n",
    "print(\"Ringkasan Statistik:\")\n",
    "print(customers_df.describe())"
   ]
  },
  {
   "cell_type": "markdown",
   "id": "18311dbc",
   "metadata": {},
   "source": [
    "## Cleaning Data"
   ]
  },
  {
   "cell_type": "code",
   "execution_count": null,
   "id": "6d7a2a2c",
   "metadata": {},
   "outputs": [],
   "source": [
    "\n",
    "print(\"Menghapus Duplikasi\")\n",
    "customers_df.drop_duplicates(inplace=True)"
   ]
  },
  {
   "cell_type": "markdown",
   "id": "33a45301",
   "metadata": {},
   "source": [
    "Jumlah Duplikasi setelah pembersihan"
   ]
  },
  {
   "cell_type": "code",
   "execution_count": null,
   "id": "f3fc007f",
   "metadata": {},
   "outputs": [],
   "source": [
    "\n",
    "print(\"Jumlah Duplikasi setelah pembersihan:\", customers_df.duplicated().sum())"
   ]
  },
  {
   "cell_type": "markdown",
   "id": "f7f6cfcd",
   "metadata": {},
   "source": [
    "cara mengecek tipe data"
   ]
  },
  {
   "cell_type": "code",
   "execution_count": null,
   "id": "480b547c",
   "metadata": {},
   "outputs": [],
   "source": [
    "\n",
    "print(\"cara mengecek tipe data\")\n",
    "print(customers_df.customer_city.value_counts())"
   ]
  },
  {
   "cell_type": "markdown",
   "id": "c7c78d5b",
   "metadata": {},
   "source": [
    "memfilter DataFrame customers_df agar hanya menampilkan baris dengan nilai tertinggi pada kolom customer_zip_code"
   ]
  },
  {
   "cell_type": "code",
   "execution_count": null,
   "id": "bcfe35e0",
   "metadata": {},
   "outputs": [],
   "source": [
    "\n",
    "print(\" memfilter DataFrame customers_df agar hanya menampilkan baris dengan nilai tertinggi pada kolom customer_zip_code.\")\n",
    "print(customers_df[customers_df.customer_zip_code_prefix == customers_df.customer_zip_code_prefix.max()])"
   ]
  },
  {
   "cell_type": "markdown",
   "id": "d2f7cc39",
   "metadata": {},
   "source": [
    "mengganti nilai terbesar dalam kolom customer_zip_code_prefix dengan angka 10000"
   ]
  },
  {
   "cell_type": "code",
   "execution_count": null,
   "id": "f8b3ef03",
   "metadata": {},
   "outputs": [],
   "source": [
    "\n",
    "print(\"mengganti nilai terbesar dalam kolom customer_zip_code_prefix dengan angka 10000\")\n",
    "customers_df.customer_zip_code_prefix.replace(customers_df.customer_zip_code_prefix.max(), 100000, inplace=True)\n",
    "print(customers_df[customers_df.customer_zip_code_prefix == customers_df.customer_zip_code_prefix.max()])\n"
   ]
  },
  {
   "cell_type": "markdown",
   "id": "d3f2a9cc",
   "metadata": {},
   "source": [
    "menghitung jumlah detik"
   ]
  },
  {
   "cell_type": "code",
   "execution_count": null,
   "id": "80770782",
   "metadata": {},
   "outputs": [],
   "source": [
    "\n",
    "print(\"menghitung jumlah detik\")\n",
    "print(\"-\"*20)\n",
    "orders_df = pd.read_csv(os.path.join(base_path, \"orders_dataset.csv\"))\n",
    "print(orders_df.head())\n",
    "orders_df[\"order_delivered_customer_date\"] = pd.to_datetime(orders_df[\"order_delivered_customer_date\"])\n",
    "delivery_time = orders_df[\"order_delivered_customer_date\"] - orders_df[\"order_delivered_customer_date\"]\n",
    "delivery_time = delivery_time.apply(lambda x: x.total_seconds())\n",
    "orders_df[\"delivery_time\"] = round(delivery_time/86400)\n",
    "print(orders_df[[\"order_id\", \"customer_id\", \"order_delivered_customer_date\", \"order_delivered_customer_date\", \"delivery_time\"]].head().to_string(index=False))"
   ]
  },
  {
   "cell_type": "markdown",
   "id": "4546fa2b",
   "metadata": {},
   "source": [
    "ingkasan pada data order"
   ]
  },
  {
   "cell_type": "code",
   "execution_count": null,
   "id": "ab7cafc8",
   "metadata": {},
   "outputs": [],
   "source": [
    "#ringkasan pada data order\n",
    "print(\"Ringkasan pada data order\")\n",
    "print(\"-\"*15)\n",
    "print(orders_df.describe(include=\"all\"))"
   ]
  },
  {
   "cell_type": "markdown",
   "id": "c37fc4a8",
   "metadata": {},
   "source": [
    "menambahkan kolom nilai “Active” untuk pelanggan yang pernah melakukan order setidaknya sekali dan sebaliknya bernilai “Non Active” untuk pelanggan yang belum pernah melakukan order sama sekali"
   ]
  },
  {
   "cell_type": "code",
   "execution_count": null,
   "id": "d7240a6d",
   "metadata": {},
   "outputs": [],
   "source": [
    "print(\"Menambahkan kolom nilai “Active” untuk pelanggan yang pernah melakukan order setidaknya sekali dan sebaliknya bernilai “Non Active” untuk pelanggan yang belum pernah melakukan order sama sekali\")\n",
    "print(\"-\"*120)\n",
    "customer_id_in_orders_df =  orders_df.customer_id.tolist()\n",
    "customers_df[\"status\"] = customers_df[\"customer_id\"].apply(lambda x: \"Active\" if x in customer_id_in_orders_df else \"Non Active\")\n",
    "print(customers_df.sample(5))"
   ]
  },
  {
   "cell_type": "markdown",
   "id": "db82a712",
   "metadata": {},
   "source": [
    "nformasi terkait jumlah pelanggan yang berstatus “Active” dan “Non Activer"
   ]
  },
  {
   "cell_type": "code",
   "execution_count": null,
   "id": "e24ac134",
   "metadata": {},
   "outputs": [],
   "source": [
    "print(\" informasi terkait jumlah pelanggan yang berstatus “Active” dan “Non Active”\")\n",
    "print(customers_df.groupby(by=\"status\").customer_id.count())"
   ]
  },
  {
   "cell_type": "markdown",
   "id": "e5c42428",
   "metadata": {},
   "source": [
    "menggabungkan keduanya melalui proses join atau merge. (DATA COSTUMER DAN DATA ORDER)"
   ]
  },
  {
   "cell_type": "code",
   "execution_count": null,
   "id": "5d440770",
   "metadata": {},
   "outputs": [],
   "source": [
    "orders_customers_df = pd.merge(\n",
    "    left=orders_df,\n",
    "    right=customers_df,\n",
    "    how=\"left\",\n",
    "    left_on=\"customer_id\",\n",
    "    right_on=\"customer_id\"\n",
    ")\n",
    "print(orders_customers_df.head())"
   ]
  },
  {
   "cell_type": "markdown",
   "id": "e217f636",
   "metadata": {},
   "source": [
    "informasi terkait jumlah order berdasarkan kota"
   ]
  },
  {
   "cell_type": "code",
   "execution_count": null,
   "id": "f9e7c132",
   "metadata": {},
   "outputs": [],
   "source": [
    "\n",
    "#informasi terkait jumlah order berdasarkan kota\n",
    "print(\" informasi terkait jumlah order berdasarkan customer_state\")\n",
    "print(\"-\"*15)\n",
    "print(orders_customers_df.groupby(by=\"customer_state\").order_id.nunique().sort_values(ascending=False).reset_index().head(10))"
   ]
  },
  {
   "cell_type": "markdown",
   "id": "db00f834",
   "metadata": {},
   "source": [
    "Jumlah order berdasarkan state"
   ]
  },
  {
   "cell_type": "code",
   "execution_count": null,
   "id": "cffdab3f",
   "metadata": {},
   "outputs": [],
   "source": [
    "print(\"Jumlah order berdasarkan state\")\n",
    "print(\"-\"*15)\n",
    "print(orders_customers_df.groupby(by=\"customer_state\").order_id.nunique().sort_values(ascending=False))"
   ]
  },
  {
   "cell_type": "markdown",
   "id": "d28392a5",
   "metadata": {},
   "source": [
    "## Exploratory Data"
   ]
  },
  {
   "cell_type": "code",
   "execution_count": null,
   "id": "58d17464",
   "metadata": {},
   "outputs": [],
   "source": [
    "\n",
    "orders_df = pd.read_csv(os.path.join(r\"C:\\\\Users\\\\Waghyu\\\\Documents\\\\coding camp\\\\Proyek Akhir\\\\E-Commerce Public Dataset\", \"orders_dataset.csv\"))\n",
    "print(\"Data Orders\")\n",
    "print(orders_df.head())\n",
    "\n",
    "# Menghitung waktu pengiriman dalam hari\n",
    "orders_df[\"order_delivered_customer_date\"] = pd.to_datetime(orders_df[\"order_delivered_customer_date\"])\n",
    "delivery_time = orders_df[\"order_delivered_customer_date\"] - orders_df[\"order_delivered_customer_date\"]\n",
    "delivery_time = delivery_time.apply(lambda x: x.total_seconds())\n",
    "orders_df[\"delivery_time\"] = round(delivery_time/86400)\n",
    "print(orders_df[[\"order_id\", \"customer_id\", \"order_delivered_customer_date\", \"delivery_time\"]].head())\n"
   ]
  },
  {
   "cell_type": "markdown",
   "id": "68915ae3",
   "metadata": {},
   "source": [
    "Menambahkan Status Pelanggan"
   ]
  },
  {
   "cell_type": "code",
   "execution_count": null,
   "id": "b24ebdd0",
   "metadata": {},
   "outputs": [],
   "source": [
    "\n",
    "customer_id_in_orders_df = orders_df.customer_id.tolist()\n",
    "customers_df[\"status\"] = customers_df[\"customer_id\"].apply(lambda x: \"Active\" if x in customer_id_in_orders_df else \"Non Active\")\n",
    "print(customers_df.groupby(by=\"status\").customer_id.count())\n"
   ]
  },
  {
   "cell_type": "markdown",
   "id": "b7a39bc2",
   "metadata": {},
   "source": [
    "Menggabungkan Data Orders dan Customers"
   ]
  },
  {
   "cell_type": "code",
   "execution_count": null,
   "id": "1b8b2d20",
   "metadata": {},
   "outputs": [],
   "source": [
    "\n",
    "orders_customers_df = pd.merge(\n",
    "    left=orders_df,\n",
    "    right=customers_df,\n",
    "    how=\"left\",\n",
    "    left_on=\"customer_id\",\n",
    "    right_on=\"customer_id\"\n",
    ")\n",
    "print(orders_customers_df.head())\n"
   ]
  },
  {
   "cell_type": "markdown",
   "id": "318e8e9a",
   "metadata": {},
   "source": [
    "Jumlah Order berdasarkan State"
   ]
  },
  {
   "cell_type": "code",
   "execution_count": null,
   "id": "54fc2d45",
   "metadata": {},
   "outputs": [],
   "source": [
    "\n",
    "print(orders_customers_df.groupby(by=\"customer_state\").order_id.nunique().sort_values(ascending=False).head(10))\n"
   ]
  },
  {
   "cell_type": "markdown",
   "id": "c2d740a9",
   "metadata": {},
   "source": [
    "## Visualisasi Data"
   ]
  },
  {
   "cell_type": "markdown",
   "id": "abf0d755",
   "metadata": {},
   "source": [
    "Distribusi Status Pelanggan"
   ]
  },
  {
   "cell_type": "code",
   "execution_count": null,
   "id": "be3b8793",
   "metadata": {},
   "outputs": [],
   "source": [
    "\n",
    "sns.set(style=\"whitegrid\")\n",
    "plt.figure(figsize=(12, 6))\n",
    "sns.countplot(data=customers_df, x=\"status\", palette=\"pastel\")\n",
    "plt.title(\"Distribusi Status Pelanggan\")\n",
    "plt.show()"
   ]
  },
  {
   "cell_type": "markdown",
   "id": "1d4309db",
   "metadata": {},
   "source": [
    "Top 10 Kota dengan Jumlah Pelanggan Terbanyak"
   ]
  },
  {
   "cell_type": "code",
   "execution_count": null,
   "id": "4f61b363",
   "metadata": {},
   "outputs": [],
   "source": [
    "\n",
    "plt.figure(figsize=(12, 6))\n",
    "customers_df[\"customer_city\"].value_counts().head(10).plot(kind=\"bar\", color=\"skyblue\")\n",
    "plt.title(\"Top 10 Kota dengan Jumlah Pelanggan Terbanyak\")\n",
    "plt.xlabel(\"Kota\")\n",
    "plt.ylabel(\"Jumlah Pelanggan\")\n",
    "plt.xticks(rotation=45)\n",
    "plt.show()"
   ]
  },
  {
   "cell_type": "markdown",
   "id": "35924c64",
   "metadata": {},
   "source": [
    "Jumlah Order berdasarkan State"
   ]
  },
  {
   "cell_type": "code",
   "execution_count": null,
   "id": "5f306275",
   "metadata": {},
   "outputs": [],
   "source": [
    "plt.figure(figsize=(12, 6))\n",
    "orders_customers_df.groupby(\"customer_state\")[\"order_id\"].nunique().sort_values(ascending=False).head(10).plot(kind=\"bar\", color=\"coral\")\n",
    "plt.title(\"Jumlah Order berdasarkan State\")\n",
    "plt.xlabel(\"State\")\n",
    "plt.ylabel(\"Jumlah Order\")\n",
    "plt.xticks(rotation=45)\n",
    "plt.show()"
   ]
  },
  {
   "cell_type": "markdown",
   "id": "0a6f03a4",
   "metadata": {},
   "source": [
    "Distribusi Waktu Pengiriman"
   ]
  },
  {
   "cell_type": "code",
   "execution_count": null,
   "id": "f499a666",
   "metadata": {},
   "outputs": [],
   "source": [
    "plt.figure(figsize=(12, 6))\n",
    "sns.histplot(orders_df[\"delivery_time\"].dropna(), bins=20, kde=True, color=\"purple\")\n",
    "plt.title(\"Distribusi Waktu Pengiriman\")\n",
    "plt.xlabel(\"Hari\")\n",
    "plt.ylabel(\"Frekuensi\")\n",
    "plt.show()"
   ]
  },
  {
   "cell_type": "markdown",
   "id": "41cbc6fc",
   "metadata": {},
   "source": [
    "Korelasi Antar Variabel di Orders Dataset"
   ]
  },
  {
   "cell_type": "code",
   "execution_count": null,
   "id": "e17715ad",
   "metadata": {},
   "outputs": [],
   "source": [
    "plt.figure(figsize=(12, 6))\n",
    "sns.heatmap(orders_df.corr(), annot=True, cmap=\"coolwarm\", fmt=\".2f\")\n",
    "plt.title(\"Korelasi Antar Variabel di Orders Dataset\")\n",
    "plt.show()\n"
   ]
  }
 ],
 "metadata": {},
 "nbformat": 4,
 "nbformat_minor": 5
}
