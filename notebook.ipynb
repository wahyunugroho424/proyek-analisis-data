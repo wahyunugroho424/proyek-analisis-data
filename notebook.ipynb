import numpy as np
import pandas as pd
import matplotlib.pyplot as plt
import seaborn as sns
import os

##          Data Wrigling

#1. Gathering Data
print("Gathering Data")
print("")
print("data costumer")
print("-"*15)
base_path = r"C:\Users\Waghyu\Documents\coding camp\Proyek Akhir\E-Commerce Public Dataset"
customers_df = pd.read_csv(os.path.join(base_path, "customers_dataset.csv"))
print(customers_df.head())


#2. Assessing Data (Menilai tabel)
print("")
print ("Assessing Data (Menilai tabel)")
print("-"*20)
print('')
print("data costumer info")
print("-"*15)
print(customers_df.info())
print("-"*15)
print(" ")
print("informasi terkait jumlah missing values")
print("-"*15)
print(customers_df.isna().sum())
print("-"*15)
print("")
print("-"*15)
print(" memeriksa duplikasi dan ringkasan parameter statistik dari kolom numerik pada orders_df.")
print(""*15)
print("Jumlah duplikasi: ", customers_df.duplicated().sum())
print(" ")
print("Ringkasan pada data customer")
print("-"*15)
print(customers_df.describe())

#Cleaning Data
print("")
print("Cleaning Data")
print(""*20)
# Menghilangkan duplicate data
customers_df.drop_duplicates(inplace=True)
print("")
print("-"*20)
print("Mengecek duplicate data")
print("Jumlah duplikasi: ", customers_df.duplicated().sum())
print("")
print("-"*20)
print("")
print("-"*20)
print("cara mengecek tipe data")
print(customers_df.customer_city.value_counts())
print("")
print("-"*20)
print("")
print("-"*20)
print(" memfilter DataFrame customers_df agar hanya menampilkan baris dengan nilai tertinggi pada kolom customer_zip_code.")
print(customers_df[customers_df.customer_zip_code_prefix == customers_df.customer_zip_code_prefix.max()])
print("")
print("-"*20)
print("mengganti nilai terbesar dalam kolom age dengan angka 10000")
customers_df.customer_zip_code_prefix.replace(customers_df.customer_zip_code_prefix.max(), 100000, inplace=True)
print(customers_df[customers_df.customer_zip_code_prefix == customers_df.customer_zip_code_prefix.max()])


import numpy as np
import pandas as pd
import matplotlib.pyplot as plt
import seaborn as sns
import os


#       Exploratory Data

#1. Gathering Data
print("Gathering Data")
print("")
print("data costumer")
print("-"*15)
base_path = r"C:\Users\Waghyu\Documents\coding camp\Proyek Akhir\E-Commerce Public Dataset"
customers_df = pd.read_csv(os.path.join(base_path, "customers_dataset.csv"))
print(customers_df.head())


#2. Assessing Data (Menilai tabel)
print("")
print ("Assessing Data (Menilai tabel)")
print("-"*20)
print('')
print("data costumer info")
print("-"*15)
print(customers_df.info())
print("-"*15)
print(" ")
print("informasi terkait jumlah missing values")
print("-"*15)
print(customers_df.isna().sum())
print("-"*15)
print("")
print("-"*15)
print(" memeriksa duplikasi dan ringkasan parameter statistik dari kolom numerik pada orders_df.")
print(""*15)
print("Jumlah duplikasi: ", customers_df.duplicated().sum())
print(" ")
print("Ringkasan pada data customer")
print("-"*15)
print(customers_df.describe())

#Cleaning Data
print("")
print("Cleaning Data")
print(""*20)
# Menghilangkan duplicate data
customers_df.drop_duplicates(inplace=True)
print("")
print("-"*20)
print("Mengecek duplicate data")
print("Jumlah duplikasi: ", customers_df.duplicated().sum())
print("")
print("-"*20)
print("")
print("-"*20)
print("cara mengecek tipe data")
print(customers_df.customer_city.value_counts())
print("")
print("-"*20)
print("")
print("-"*20)
print(" memfilter DataFrame customers_df agar hanya menampilkan baris dengan nilai tertinggi pada kolom customer_zip_code.")
print(customers_df[customers_df.customer_zip_code_prefix == customers_df.customer_zip_code_prefix.max()])
print("")
print("-"*20)
print("mengganti nilai terbesar dalam kolom customer_zip_code_prefix dengan angka 10000")
customers_df.customer_zip_code_prefix.replace(customers_df.customer_zip_code_prefix.max(), 100000, inplace=True)
print(customers_df[customers_df.customer_zip_code_prefix == customers_df.customer_zip_code_prefix.max()])

#menghitung jumlah detik
print("menghitung jumlah detik")
print("-"*20)
orders_df = pd.read_csv(os.path.join(base_path, "orders_dataset.csv"))
print(orders_df.head())


orders_df["order_delivered_customer_date"] = pd.to_datetime(orders_df["order_delivered_customer_date"])
delivery_time = orders_df["order_delivered_customer_date"] - orders_df["order_delivered_customer_date"]
delivery_time = delivery_time.apply(lambda x: x.total_seconds())
orders_df["delivery_time"] = round(delivery_time/86400)
print(orders_df[["order_id", "customer_id", "order_delivered_customer_date", "order_delivered_customer_date", "delivery_time"]].head().to_string(index=False))
print(" ")
#ringkasan pada data order
print("Ringkasan pada data order")
print("-"*15)
print(orders_df.describe(include="all"))
print("")
#menambahkan kolom nilai “Active” untuk pelanggan yang pernah melakukan order setidaknya sekali dan sebaliknya bernilai “Non Active” untuk pelanggan yang belum pernah melakukan order sama sekali
print("Menambahkan kolom nilai “Active” untuk pelanggan yang pernah melakukan order setidaknya sekali dan sebaliknya bernilai “Non Active” untuk pelanggan yang belum pernah melakukan order sama sekali")
print("-"*120)
customer_id_in_orders_df =  orders_df.customer_id.tolist()
customers_df["status"] = customers_df["customer_id"].apply(lambda x: "Active" if x in customer_id_in_orders_df else "Non Active")
print(customers_df.sample(5))
print("")
#nformasi terkait jumlah pelanggan yang berstatus “Active” dan “Non Active
print(" informasi terkait jumlah pelanggan yang berstatus “Active” dan “Non Active”")
print(customers_df.groupby(by="status").customer_id.count())

# menggabungkan keduanya melalui proses join atau merge. (DATA COSTUMER DAN DATA ORDER)
orders_customers_df = pd.merge(
    left=orders_df,
    right=customers_df,
    how="left",
    left_on="customer_id",
    right_on="customer_id"
)
print(orders_customers_df.head())
print("")
#informasi terkait jumlah order berdasarkan kota
print(" informasi terkait jumlah order berdasarkan customer_state")
print("-"*15)
print(orders_customers_df.groupby(by="customer_state").order_id.nunique().sort_values(ascending=False).reset_index().head(10))
print("")
#Jumlah order berdasarkan state
print("Jumlah order berdasarkan state")
print("-"*15)
print(orders_customers_df.groupby(by="customer_state").order_id.nunique().sort_values(ascending=False))
print("")


