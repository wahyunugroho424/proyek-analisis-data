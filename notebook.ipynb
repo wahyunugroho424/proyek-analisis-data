{
  "cells": [
    {
      "cell_type": "markdown",
      "metadata": {
        "id": "view-in-github",
        "colab_type": "text"
      },
      "source": [
        "<a href=\"https://colab.research.google.com/github/wahyunugroho424/proyek-analisis-data/blob/main/notebook.ipynb\" target=\"_parent\"><img src=\"https://colab.research.google.com/assets/colab-badge.svg\" alt=\"Open In Colab\"/></a>"
      ]
    },
    {
      "cell_type": "markdown",
      "metadata": {
        "id": "H9wADwK78DCz"
      },
      "source": [
        "# Proyek Analisis Data: E-Commerce Public Dataset\n",
        "- **Nama:** Wahyu Nugroho\n",
        "- **Email:** wahyumnapaham2gmail.com\n",
        "- **ID Dicoding:** wahyu_nugroho_123"
      ]
    },
    {
      "cell_type": "markdown",
      "metadata": {
        "id": "H-z4QGlO8DC1"
      },
      "source": [
        "## Import Semua Packages/Library yang Digunakan"
      ]
    },
    {
      "cell_type": "code",
      "execution_count": null,
      "metadata": {
        "id": "FVYwaObI8DC1"
      },
      "outputs": [],
      "source": [
        "import numpy as np\n",
        "import pandas as pd\n",
        "import matplotlib.pyplot as plt\n",
        "import seaborn as sns"
      ]
    },
    {
      "cell_type": "markdown",
      "metadata": {
        "id": "h_Sh51Xy8DC1"
      },
      "source": [
        "## **Data Wrangling**"
      ]
    },
    {
      "cell_type": "markdown",
      "metadata": {
        "id": "sXU2GBYu8DC1"
      },
      "source": [
        "### **Garhering Data**"
      ]
    },
    {
      "cell_type": "code",
      "execution_count": 6,
      "metadata": {
        "id": "zjCBk1BI8DC1",
        "colab": {
          "base_uri": "https://localhost:8080/"
        },
        "outputId": "02861066-47b5-4031-a2eb-e60c6c9d7098"
      },
      "outputs": [
        {
          "output_type": "stream",
          "name": "stdout",
          "text": [
            "Gathering Data\n",
            "\n",
            "data costumer\n",
            "---------------\n",
            "                        customer_id                customer_unique_id  \\\n",
            "0  06b8999e2fba1a1fbc88172c00ba8bc7  861eff4711a542e4b93843c6dd7febb0   \n",
            "1  18955e83d337fd6b2def6b18a428ac77  290c77bc529b7ac935b93aa66c333dc3   \n",
            "2  4e7b3e00288586ebd08712fdd0374a03  060e732b5b29e8181a18229c7b0b2b5e   \n",
            "3  b2b6027bc5c5109e529d4dc6358b12c3  259dac757896d24d7702b9acbbff3f3c   \n",
            "4  4f2d8ab171c80ec8364f7c12e35b23ad  345ecd01c38d18a9036ed96c73b8d066   \n",
            "\n",
            "   customer_zip_code_prefix          customer_city customer_state  \n",
            "0                     14409                 franca             SP  \n",
            "1                      9790  sao bernardo do campo             SP  \n",
            "2                      1151              sao paulo             SP  \n",
            "3                      8775        mogi das cruzes             SP  \n",
            "4                     13056               campinas             SP  \n"
          ]
        }
      ],
      "source": [
        "#1. Gathering Data\n",
        "print(\"Gathering Data\")\n",
        "print(\"\")\n",
        "print(\"data costumer\")\n",
        "print(\"-\"*15)\n",
        "customers_df = pd.read_csv(\"https://raw.githubusercontent.com/wahyunugroho424/proyek-analisis-data/main/data/customers_dataset.csv\")\n",
        "print(customers_df.head())"
      ]
    },
    {
      "cell_type": "markdown",
      "metadata": {
        "id": "FHSiqaZp8DC1"
      },
      "source": [
        "### **Assessing Data**"
      ]
    },
    {
      "cell_type": "code",
      "source": [
        "#2. Assessing Data (Menilai tabel)\n",
        "print(\"\")\n",
        "print (\"Assessing Data (Menilai tabel)\")\n",
        "print(\"-\"*20)\n",
        "print('')\n",
        "print(\"data costumer info\")\n",
        "print(\"-\"*15)\n",
        "print(customers_df.info())"
      ],
      "metadata": {
        "id": "ax-3tEjc9Cj1",
        "colab": {
          "base_uri": "https://localhost:8080/"
        },
        "outputId": "1778025c-aab6-4cce-bf62-eca450817da8"
      },
      "execution_count": 7,
      "outputs": [
        {
          "output_type": "stream",
          "name": "stdout",
          "text": [
            "\n",
            "Assessing Data (Menilai tabel)\n",
            "--------------------\n",
            "\n",
            "data costumer info\n",
            "---------------\n",
            "<class 'pandas.core.frame.DataFrame'>\n",
            "RangeIndex: 99441 entries, 0 to 99440\n",
            "Data columns (total 5 columns):\n",
            " #   Column                    Non-Null Count  Dtype \n",
            "---  ------                    --------------  ----- \n",
            " 0   customer_id               99441 non-null  object\n",
            " 1   customer_unique_id        99441 non-null  object\n",
            " 2   customer_zip_code_prefix  99441 non-null  int64 \n",
            " 3   customer_city             99441 non-null  object\n",
            " 4   customer_state            99441 non-null  object\n",
            "dtypes: int64(1), object(4)\n",
            "memory usage: 3.8+ MB\n",
            "None\n"
          ]
        }
      ]
    },
    {
      "cell_type": "markdown",
      "source": [
        "#### Informasi terkait missing value"
      ],
      "metadata": {
        "id": "NXRQpbdtVxEv"
      }
    },
    {
      "cell_type": "code",
      "source": [
        "print(\"informasi terkait jumlah missing values\")\n",
        "print(\"-\"*15)\n",
        "print(customers_df.isna().sum())"
      ],
      "metadata": {
        "colab": {
          "base_uri": "https://localhost:8080/"
        },
        "id": "2cCg5fOrV7Ck",
        "outputId": "e953b72b-0b89-482f-d832-c924505ced8a"
      },
      "execution_count": 8,
      "outputs": [
        {
          "output_type": "stream",
          "name": "stdout",
          "text": [
            "informasi terkait jumlah missing values\n",
            "---------------\n",
            "customer_id                 0\n",
            "customer_unique_id          0\n",
            "customer_zip_code_prefix    0\n",
            "customer_city               0\n",
            "customer_state              0\n",
            "dtype: int64\n"
          ]
        }
      ]
    },
    {
      "cell_type": "markdown",
      "source": [
        "##### memeriksa duplikasi dan ringkasan parameter statistik dari kolom numerik pada orders_df"
      ],
      "metadata": {
        "id": "VKbkekOXV81w"
      }
    },
    {
      "cell_type": "code",
      "source": [
        "print(\" memeriksa duplikasi dan ringkasan parameter statistik dari kolom numerik pada orders_df.\")\n",
        "print(\"\"*15)\n",
        "print(\"Jumlah duplikasi: \", customers_df.duplicated().sum())"
      ],
      "metadata": {
        "colab": {
          "base_uri": "https://localhost:8080/"
        },
        "id": "OB0mdEVyWLwv",
        "outputId": "c24f9e8e-17fd-4f0d-c236-a04fe210a3da"
      },
      "execution_count": 9,
      "outputs": [
        {
          "output_type": "stream",
          "name": "stdout",
          "text": [
            " memeriksa duplikasi dan ringkasan parameter statistik dari kolom numerik pada orders_df.\n",
            "\n",
            "Jumlah duplikasi:  0\n"
          ]
        }
      ]
    },
    {
      "cell_type": "markdown",
      "source": [
        "###### Ringkasan pada data customer"
      ],
      "metadata": {
        "id": "wNZMhBjhWTeV"
      }
    },
    {
      "cell_type": "code",
      "source": [
        "print(customers_df.describe())"
      ],
      "metadata": {
        "colab": {
          "base_uri": "https://localhost:8080/"
        },
        "id": "FRSW6aT_We5F",
        "outputId": "e0965d44-90ec-4f67-ba81-7ee7954da88d"
      },
      "execution_count": 10,
      "outputs": [
        {
          "output_type": "stream",
          "name": "stdout",
          "text": [
            "       customer_zip_code_prefix\n",
            "count              99441.000000\n",
            "mean               35137.474583\n",
            "std                29797.938996\n",
            "min                 1003.000000\n",
            "25%                11347.000000\n",
            "50%                24416.000000\n",
            "75%                58900.000000\n",
            "max                99990.000000\n"
          ]
        }
      ]
    },
    {
      "cell_type": "markdown",
      "metadata": {
        "id": "EhN5R4hr8DC1"
      },
      "source": [
        "### **Cleaning Data**"
      ]
    },
    {
      "cell_type": "markdown",
      "source": [
        "#### Menghilangkan duplicate data"
      ],
      "metadata": {
        "id": "yt6Ufp2uWpHJ"
      }
    },
    {
      "cell_type": "code",
      "source": [
        "customers_df.drop_duplicates(inplace=True)"
      ],
      "metadata": {
        "id": "jVnYpprE9Evz"
      },
      "execution_count": 11,
      "outputs": []
    },
    {
      "cell_type": "markdown",
      "source": [
        "##### Mengecek duplicate data"
      ],
      "metadata": {
        "id": "fMOm8ATGW95p"
      }
    },
    {
      "cell_type": "code",
      "source": [
        "print(\"Jumlah duplikasi: \", customers_df.duplicated().sum())"
      ],
      "metadata": {
        "colab": {
          "base_uri": "https://localhost:8080/"
        },
        "id": "R2032ETKXGge",
        "outputId": "a2804444-e7d6-413f-f22a-2b64f5279967"
      },
      "execution_count": 12,
      "outputs": [
        {
          "output_type": "stream",
          "name": "stdout",
          "text": [
            "Jumlah duplikasi:  0\n"
          ]
        }
      ]
    },
    {
      "cell_type": "markdown",
      "source": [
        "###### Cara mengecek tipe data"
      ],
      "metadata": {
        "id": "GRxj_UiSXKbX"
      }
    },
    {
      "cell_type": "code",
      "source": [
        "print(customers_df.customer_city.value_counts())"
      ],
      "metadata": {
        "colab": {
          "base_uri": "https://localhost:8080/"
        },
        "id": "Hs4R4kg4XV3o",
        "outputId": "04e7410a-f445-4ca7-909e-515a97c0ccec"
      },
      "execution_count": 13,
      "outputs": [
        {
          "output_type": "stream",
          "name": "stdout",
          "text": [
            "customer_city\n",
            "sao paulo            15540\n",
            "rio de janeiro        6882\n",
            "belo horizonte        2773\n",
            "brasilia              2131\n",
            "curitiba              1521\n",
            "                     ...  \n",
            "bequimao                 1\n",
            "andarai                  1\n",
            "vargem grande            1\n",
            "curvelandia              1\n",
            "eugenio de castro        1\n",
            "Name: count, Length: 4119, dtype: int64\n"
          ]
        }
      ]
    },
    {
      "cell_type": "markdown",
      "source": [
        "###### Memfilter DataFrame customers_df agar hanya menampilkan baris dengan nilai tertinggi pada kolom customer_zip_code"
      ],
      "metadata": {
        "id": "-3OtKQ6aXYeu"
      }
    },
    {
      "cell_type": "code",
      "source": [
        "print(customers_df[customers_df.customer_zip_code_prefix == customers_df.customer_zip_code_prefix.max()])"
      ],
      "metadata": {
        "colab": {
          "base_uri": "https://localhost:8080/"
        },
        "id": "D0w2ipsTXyYV",
        "outputId": "e95241b5-41fa-47f6-98f3-f93d81740e0a"
      },
      "execution_count": 14,
      "outputs": [
        {
          "output_type": "stream",
          "name": "stdout",
          "text": [
            "                            customer_id                customer_unique_id  \\\n",
            "25752  f04c3f6e20a2a4318d97d7cec1d27bbf  8f846b30f8f56368cd1bf4c89efeed74   \n",
            "\n",
            "       customer_zip_code_prefix customer_city customer_state  \n",
            "25752                     99990     muliterno             RS  \n"
          ]
        }
      ]
    },
    {
      "cell_type": "markdown",
      "source": [
        "###### Mengganti nilai terbesar dalam kolom age dengan angka 10000"
      ],
      "metadata": {
        "id": "w7Wjit3JX0cB"
      }
    },
    {
      "cell_type": "code",
      "source": [
        "customers_df[\"customer_zip_code_prefix\"] = customers_df[\"customer_zip_code_prefix\"].replace(\n",
        "    customers_df[\"customer_zip_code_prefix\"].max(), 100000\n",
        ")\n",
        "\n",
        "print(customers_df[customers_df[\"customer_zip_code_prefix\"] == 100000])\n"
      ],
      "metadata": {
        "colab": {
          "base_uri": "https://localhost:8080/"
        },
        "id": "QO6pmPD6YJU3",
        "outputId": "276c4694-8628-457c-967d-30c9591ca124"
      },
      "execution_count": 39,
      "outputs": [
        {
          "output_type": "stream",
          "name": "stdout",
          "text": [
            "                            customer_id                customer_unique_id  \\\n",
            "25752  f04c3f6e20a2a4318d97d7cec1d27bbf  8f846b30f8f56368cd1bf4c89efeed74   \n",
            "\n",
            "       customer_zip_code_prefix customer_city customer_state  status  \n",
            "25752                    100000     muliterno             RS  Active  \n"
          ]
        }
      ]
    },
    {
      "cell_type": "markdown",
      "metadata": {
        "id": "gp-Y6wU38DC1"
      },
      "source": [
        "## **Exploratory Data Analysis (EDA)**"
      ]
    },
    {
      "cell_type": "markdown",
      "metadata": {
        "id": "MW7WF2kr8DC1"
      },
      "source": [
        "### Menghitung jumlah detik"
      ]
    },
    {
      "cell_type": "code",
      "execution_count": 17,
      "metadata": {
        "id": "e9CQCZjk8DC2",
        "colab": {
          "base_uri": "https://localhost:8080/"
        },
        "outputId": "45b61935-230a-49e1-a531-4f1fd45de6a6"
      },
      "outputs": [
        {
          "output_type": "stream",
          "name": "stdout",
          "text": [
            "menghitung jumlah detik\n",
            "--------------------\n",
            "                           order_id                       customer_id  \\\n",
            "0  e481f51cbdc54678b7cc49136f2d6af7  9ef432eb6251297304e76186b10a928d   \n",
            "1  53cdb2fc8bc7dce0b6741e2150273451  b0830fb4747a6c6d20dea0b8c802d7ef   \n",
            "2  47770eb9100c2d0c44946d9cf07ec65d  41ce2a54c0b03bf3443c3d931a367089   \n",
            "3  949d5b44dbf5de918fe9c16f97b45f8a  f88197465ea7920adcdbec7375364d82   \n",
            "4  ad21c59c0840e6cb83a9ceb5573f8159  8ab97904e6daea8866dbdbc4fb7aad2c   \n",
            "\n",
            "  order_status order_purchase_timestamp    order_approved_at  \\\n",
            "0    delivered      2017-10-02 10:56:33  2017-10-02 11:07:15   \n",
            "1    delivered      2018-07-24 20:41:37  2018-07-26 03:24:27   \n",
            "2    delivered      2018-08-08 08:38:49  2018-08-08 08:55:23   \n",
            "3    delivered      2017-11-18 19:28:06  2017-11-18 19:45:59   \n",
            "4    delivered      2018-02-13 21:18:39  2018-02-13 22:20:29   \n",
            "\n",
            "  order_delivered_carrier_date order_delivered_customer_date  \\\n",
            "0          2017-10-04 19:55:00           2017-10-10 21:25:13   \n",
            "1          2018-07-26 14:31:00           2018-08-07 15:27:45   \n",
            "2          2018-08-08 13:50:00           2018-08-17 18:06:29   \n",
            "3          2017-11-22 13:39:59           2017-12-02 00:28:42   \n",
            "4          2018-02-14 19:46:34           2018-02-16 18:17:02   \n",
            "\n",
            "  order_estimated_delivery_date  \n",
            "0           2017-10-18 00:00:00  \n",
            "1           2018-08-13 00:00:00  \n",
            "2           2018-09-04 00:00:00  \n",
            "3           2017-12-15 00:00:00  \n",
            "4           2018-02-26 00:00:00  \n",
            "                        order_id                      customer_id order_delivered_customer_date order_delivered_customer_date  delivery_time\n",
            "e481f51cbdc54678b7cc49136f2d6af7 9ef432eb6251297304e76186b10a928d           2017-10-10 21:25:13           2017-10-10 21:25:13            0.0\n",
            "53cdb2fc8bc7dce0b6741e2150273451 b0830fb4747a6c6d20dea0b8c802d7ef           2018-08-07 15:27:45           2018-08-07 15:27:45            0.0\n",
            "47770eb9100c2d0c44946d9cf07ec65d 41ce2a54c0b03bf3443c3d931a367089           2018-08-17 18:06:29           2018-08-17 18:06:29            0.0\n",
            "949d5b44dbf5de918fe9c16f97b45f8a f88197465ea7920adcdbec7375364d82           2017-12-02 00:28:42           2017-12-02 00:28:42            0.0\n",
            "ad21c59c0840e6cb83a9ceb5573f8159 8ab97904e6daea8866dbdbc4fb7aad2c           2018-02-16 18:17:02           2018-02-16 18:17:02            0.0\n",
            " \n"
          ]
        }
      ],
      "source": [
        "print(\"menghitung jumlah detik\")\n",
        "print(\"-\"*20)\n",
        "orders_df = pd.read_csv(\"https://raw.githubusercontent.com/wahyunugroho424/proyek-analisis-data/main/data/orders_dataset.csv\")\n",
        "print(orders_df.head())\n",
        "\n",
        "\n",
        "orders_df[\"order_delivered_customer_date\"] = pd.to_datetime(orders_df[\"order_delivered_customer_date\"])\n",
        "delivery_time = orders_df[\"order_delivered_customer_date\"] - orders_df[\"order_delivered_customer_date\"]\n",
        "delivery_time = delivery_time.apply(lambda x: x.total_seconds())\n",
        "orders_df[\"delivery_time\"] = round(delivery_time/86400)\n",
        "print(orders_df[[\"order_id\", \"customer_id\", \"order_delivered_customer_date\", \"order_delivered_customer_date\", \"delivery_time\"]].head().to_string(index=False))\n",
        "print(\" \")"
      ]
    },
    {
      "cell_type": "markdown",
      "source": [
        "#### Ringkasan pada data order"
      ],
      "metadata": {
        "id": "WODwrLduY-t3"
      }
    },
    {
      "cell_type": "code",
      "source": [
        "print(\"Ringkasan pada data order\")\n",
        "print(\"-\"*15)\n",
        "print(orders_df.describe(include=\"all\"))"
      ],
      "metadata": {
        "colab": {
          "base_uri": "https://localhost:8080/"
        },
        "id": "fLPL1lZfZIX4",
        "outputId": "d64b466f-6fa6-4a03-8ad3-d0c1e6a08522"
      },
      "execution_count": 18,
      "outputs": [
        {
          "output_type": "stream",
          "name": "stdout",
          "text": [
            "Ringkasan pada data order\n",
            "---------------\n",
            "                                order_id                       customer_id  \\\n",
            "count                              99441                             99441   \n",
            "unique                             99441                             99441   \n",
            "top     e481f51cbdc54678b7cc49136f2d6af7  9ef432eb6251297304e76186b10a928d   \n",
            "freq                                   1                                 1   \n",
            "mean                                 NaN                               NaN   \n",
            "min                                  NaN                               NaN   \n",
            "25%                                  NaN                               NaN   \n",
            "50%                                  NaN                               NaN   \n",
            "75%                                  NaN                               NaN   \n",
            "max                                  NaN                               NaN   \n",
            "std                                  NaN                               NaN   \n",
            "\n",
            "       order_status order_purchase_timestamp    order_approved_at  \\\n",
            "count         99441                    99441                99281   \n",
            "unique            8                    98875                90733   \n",
            "top       delivered      2018-04-11 10:48:14  2018-02-27 04:31:10   \n",
            "freq          96478                        3                    9   \n",
            "mean            NaN                      NaN                  NaN   \n",
            "min             NaN                      NaN                  NaN   \n",
            "25%             NaN                      NaN                  NaN   \n",
            "50%             NaN                      NaN                  NaN   \n",
            "75%             NaN                      NaN                  NaN   \n",
            "max             NaN                      NaN                  NaN   \n",
            "std             NaN                      NaN                  NaN   \n",
            "\n",
            "       order_delivered_carrier_date  order_delivered_customer_date  \\\n",
            "count                         97658                          96476   \n",
            "unique                        81018                            NaN   \n",
            "top             2018-05-09 15:48:00                            NaN   \n",
            "freq                             47                            NaN   \n",
            "mean                            NaN  2018-01-14 12:09:19.035542272   \n",
            "min                             NaN            2016-10-11 13:46:32   \n",
            "25%                             NaN  2017-09-25 22:07:22.249999872   \n",
            "50%                             NaN     2018-02-02 19:28:10.500000   \n",
            "75%                             NaN  2018-05-15 22:48:52.249999872   \n",
            "max                             NaN            2018-10-17 13:22:46   \n",
            "std                             NaN                            NaN   \n",
            "\n",
            "       order_estimated_delivery_date  delivery_time  \n",
            "count                          99441        96476.0  \n",
            "unique                           459            NaN  \n",
            "top              2017-12-20 00:00:00            NaN  \n",
            "freq                             522            NaN  \n",
            "mean                             NaN            0.0  \n",
            "min                              NaN            0.0  \n",
            "25%                              NaN            0.0  \n",
            "50%                              NaN            0.0  \n",
            "75%                              NaN            0.0  \n",
            "max                              NaN            0.0  \n",
            "std                              NaN            0.0  \n"
          ]
        }
      ]
    },
    {
      "cell_type": "markdown",
      "source": [
        "##### menambahkan kolom nilai “Active” untuk pelanggan yang pernah melakukan order setidaknya sekali dan sebaliknya bernilai “Non Active” untuk pelanggan yang belum pernah melakukan order sama sekali"
      ],
      "metadata": {
        "id": "GqV91lCdZPDo"
      }
    },
    {
      "cell_type": "code",
      "source": [
        "print(\"Menambahkan kolom nilai “Active” untuk pelanggan yang pernah melakukan order setidaknya sekali dan sebaliknya bernilai “Non Active” untuk pelanggan yang belum pernah melakukan order sama sekali\")\n",
        "print(\"-\"*120)\n",
        "customer_id_in_orders_df =  orders_df.customer_id.tolist()\n",
        "customers_df[\"status\"] = customers_df[\"customer_id\"].apply(lambda x: \"Active\" if x in customer_id_in_orders_df else \"Non Active\")\n",
        "print(customers_df.sample(5))"
      ],
      "metadata": {
        "colab": {
          "base_uri": "https://localhost:8080/"
        },
        "id": "mfNKshHBZUP1",
        "outputId": "95a844e7-c8d9-4ff9-f567-d656b347b673"
      },
      "execution_count": 19,
      "outputs": [
        {
          "output_type": "stream",
          "name": "stdout",
          "text": [
            "Menambahkan kolom nilai “Active” untuk pelanggan yang pernah melakukan order setidaknya sekali dan sebaliknya bernilai “Non Active” untuk pelanggan yang belum pernah melakukan order sama sekali\n",
            "------------------------------------------------------------------------------------------------------------------------\n",
            "                            customer_id                customer_unique_id  \\\n",
            "15297  512cad4f8197ceae78d7c5cc8120f4e1  ced3a9900aba751fd71a2eb1108b6bf8   \n",
            "83779  313bc196737278f240ca37fdd878b844  86f90304c8d6f86659f0d0c7216a7305   \n",
            "77702  f1eece538627fa853a59e6ebe3aa005e  5ffa943033855b6df544500dc6e08df2   \n",
            "98292  6dfb2961d9ace9cef6f6754b38ca3845  437575693e7f49a32c13c5e402b30631   \n",
            "9764   1a99828642291db08f4a55b60b769c90  4c8bd848de103dac10c8c86d60265d6b   \n",
            "\n",
            "       customer_zip_code_prefix       customer_city customer_state  status  \n",
            "15297                     33841  ribeirao das neves             MG  Active  \n",
            "83779                     63041   juazeiro do norte             CE  Active  \n",
            "77702                     75690        caldas novas             GO  Active  \n",
            "98292                     91450        porto alegre             RS  Active  \n",
            "9764                      30720      belo horizonte             MG  Active  \n"
          ]
        }
      ]
    },
    {
      "cell_type": "markdown",
      "source": [
        "###### Informasi terkait jumlah pelanggan yang berstatus “Active” dan “Non Active"
      ],
      "metadata": {
        "id": "1voAAFnPZeDH"
      }
    },
    {
      "cell_type": "code",
      "source": [
        "print(\" informasi terkait jumlah pelanggan yang berstatus “Active” dan “Non Active”\")\n",
        "print(customers_df.groupby(by=\"status\").customer_id.count())\n"
      ],
      "metadata": {
        "colab": {
          "base_uri": "https://localhost:8080/"
        },
        "id": "CMv8tzBfZoeb",
        "outputId": "f9a38f56-313a-4741-d53b-b91c159a30aa"
      },
      "execution_count": 20,
      "outputs": [
        {
          "output_type": "stream",
          "name": "stdout",
          "text": [
            " informasi terkait jumlah pelanggan yang berstatus “Active” dan “Non Active”\n",
            "status\n",
            "Active    99441\n",
            "Name: customer_id, dtype: int64\n"
          ]
        }
      ]
    },
    {
      "cell_type": "markdown",
      "source": [
        "###### menggabungkan keduanya melalui proses join atau merge. (DATA COSTUMER DAN DATA ORDER)"
      ],
      "metadata": {
        "id": "ggSeKbqNZw1L"
      }
    },
    {
      "cell_type": "code",
      "source": [
        "orders_customers_df = pd.merge(\n",
        "    left=orders_df,\n",
        "    right=customers_df,\n",
        "    how=\"left\",\n",
        "    left_on=\"customer_id\",\n",
        "    right_on=\"customer_id\"\n",
        ")\n",
        "print(orders_customers_df.head())"
      ],
      "metadata": {
        "colab": {
          "base_uri": "https://localhost:8080/"
        },
        "id": "dAYTfJvBZ4Pp",
        "outputId": "1d73615e-4d13-4e78-d81b-0e1a5cda70a7"
      },
      "execution_count": 21,
      "outputs": [
        {
          "output_type": "stream",
          "name": "stdout",
          "text": [
            "                           order_id                       customer_id  \\\n",
            "0  e481f51cbdc54678b7cc49136f2d6af7  9ef432eb6251297304e76186b10a928d   \n",
            "1  53cdb2fc8bc7dce0b6741e2150273451  b0830fb4747a6c6d20dea0b8c802d7ef   \n",
            "2  47770eb9100c2d0c44946d9cf07ec65d  41ce2a54c0b03bf3443c3d931a367089   \n",
            "3  949d5b44dbf5de918fe9c16f97b45f8a  f88197465ea7920adcdbec7375364d82   \n",
            "4  ad21c59c0840e6cb83a9ceb5573f8159  8ab97904e6daea8866dbdbc4fb7aad2c   \n",
            "\n",
            "  order_status order_purchase_timestamp    order_approved_at  \\\n",
            "0    delivered      2017-10-02 10:56:33  2017-10-02 11:07:15   \n",
            "1    delivered      2018-07-24 20:41:37  2018-07-26 03:24:27   \n",
            "2    delivered      2018-08-08 08:38:49  2018-08-08 08:55:23   \n",
            "3    delivered      2017-11-18 19:28:06  2017-11-18 19:45:59   \n",
            "4    delivered      2018-02-13 21:18:39  2018-02-13 22:20:29   \n",
            "\n",
            "  order_delivered_carrier_date order_delivered_customer_date  \\\n",
            "0          2017-10-04 19:55:00           2017-10-10 21:25:13   \n",
            "1          2018-07-26 14:31:00           2018-08-07 15:27:45   \n",
            "2          2018-08-08 13:50:00           2018-08-17 18:06:29   \n",
            "3          2017-11-22 13:39:59           2017-12-02 00:28:42   \n",
            "4          2018-02-14 19:46:34           2018-02-16 18:17:02   \n",
            "\n",
            "  order_estimated_delivery_date  delivery_time  \\\n",
            "0           2017-10-18 00:00:00            0.0   \n",
            "1           2018-08-13 00:00:00            0.0   \n",
            "2           2018-09-04 00:00:00            0.0   \n",
            "3           2017-12-15 00:00:00            0.0   \n",
            "4           2018-02-26 00:00:00            0.0   \n",
            "\n",
            "                 customer_unique_id  customer_zip_code_prefix  \\\n",
            "0  7c396fd4830fd04220f754e42b4e5bff                      3149   \n",
            "1  af07308b275d755c9edb36a90c618231                     47813   \n",
            "2  3a653a41f6f9fc3d2a113cf8398680e8                     75265   \n",
            "3  7c142cf63193a1473d2e66489a9ae977                     59296   \n",
            "4  72632f0f9dd73dfee390c9b22eb56dd6                      9195   \n",
            "\n",
            "             customer_city customer_state  status  \n",
            "0                sao paulo             SP  Active  \n",
            "1                barreiras             BA  Active  \n",
            "2               vianopolis             GO  Active  \n",
            "3  sao goncalo do amarante             RN  Active  \n",
            "4              santo andre             SP  Active  \n"
          ]
        }
      ]
    },
    {
      "cell_type": "markdown",
      "source": [
        "###### informasi terkait jumlah order berdasarkan kota"
      ],
      "metadata": {
        "id": "hw9Y4EFRaBa4"
      }
    },
    {
      "cell_type": "code",
      "source": [
        "print(\" informasi terkait jumlah order berdasarkan customer_state\")\n",
        "print(\"-\"*15)\n",
        "print(orders_customers_df.groupby(by=\"customer_state\").order_id.nunique().sort_values(ascending=False).reset_index().head(10))"
      ],
      "metadata": {
        "colab": {
          "base_uri": "https://localhost:8080/"
        },
        "id": "TeG7L6v5aGHg",
        "outputId": "e29b3b9d-9904-4575-fa33-c7bdc562a74e"
      },
      "execution_count": 22,
      "outputs": [
        {
          "output_type": "stream",
          "name": "stdout",
          "text": [
            " informasi terkait jumlah order berdasarkan customer_state\n",
            "---------------\n",
            "  customer_state  order_id\n",
            "0             SP     41746\n",
            "1             RJ     12852\n",
            "2             MG     11635\n",
            "3             RS      5466\n",
            "4             PR      5045\n",
            "5             SC      3637\n",
            "6             BA      3380\n",
            "7             DF      2140\n",
            "8             ES      2033\n",
            "9             GO      2020\n"
          ]
        }
      ]
    },
    {
      "cell_type": "markdown",
      "source": [
        "###### Jumlah order berdasarkan state"
      ],
      "metadata": {
        "id": "_NOwYAisaMAr"
      }
    },
    {
      "cell_type": "code",
      "source": [
        "print(\"Jumlah order berdasarkan state\")\n",
        "print(\"-\"*15)\n",
        "print(orders_customers_df.groupby(by=\"customer_state\").order_id.nunique().sort_values(ascending=False))"
      ],
      "metadata": {
        "colab": {
          "base_uri": "https://localhost:8080/"
        },
        "id": "T9PiVSg1aSzt",
        "outputId": "6e86eca0-f73a-4761-a537-3c7df20e0446"
      },
      "execution_count": 23,
      "outputs": [
        {
          "output_type": "stream",
          "name": "stdout",
          "text": [
            "Jumlah order berdasarkan state\n",
            "---------------\n",
            "customer_state\n",
            "SP    41746\n",
            "RJ    12852\n",
            "MG    11635\n",
            "RS     5466\n",
            "PR     5045\n",
            "SC     3637\n",
            "BA     3380\n",
            "DF     2140\n",
            "ES     2033\n",
            "GO     2020\n",
            "PE     1652\n",
            "CE     1336\n",
            "PA      975\n",
            "MT      907\n",
            "MA      747\n",
            "MS      715\n",
            "PB      536\n",
            "PI      495\n",
            "RN      485\n",
            "AL      413\n",
            "SE      350\n",
            "TO      280\n",
            "RO      253\n",
            "AM      148\n",
            "AC       81\n",
            "AP       68\n",
            "RR       46\n",
            "Name: order_id, dtype: int64\n"
          ]
        }
      ]
    },
    {
      "cell_type": "markdown",
      "metadata": {
        "id": "zsyZjqak8DC2"
      },
      "source": [
        "## Visualization & Explanatory Analysis"
      ]
    },
    {
      "cell_type": "markdown",
      "metadata": {
        "id": "HZxOiQ6n8DC2"
      },
      "source": [
        "### Bar Chart - Jumlah Order Berdasarkan State"
      ]
    },
    {
      "cell_type": "code",
      "execution_count": 29,
      "metadata": {
        "id": "1swJUdAD8DC2",
        "colab": {
          "base_uri": "https://localhost:8080/",
          "height": 427
        },
        "outputId": "424ab88d-fe14-460b-a658-278462bf44c2"
      },
      "outputs": [
        {
          "output_type": "display_data",
          "data": {
            "text/plain": [
              "<Figure size 1200x600 with 1 Axes>"
            ],
            "image/png": "[encoded data removed]"
          },
          "metadata": {}
        }
      ],
      "source": [
        "import matplotlib.pyplot as plt\n",
        "sns.set_style(\"whitegrid\")\n",
        "customers_df = pd.read_csv(\"https://raw.githubusercontent.com/wahyunugroho424/proyek-analisis-data/main/data/customers_dataset.csv\")\n",
        "orders_df = pd.read_csv(\"https://raw.githubusercontent.com/wahyunugroho424/proyek-analisis-data/main/data/orders_dataset.csv\")\n",
        "orders_customers_df = pd.merge(\n",
        "    left=orders_df,\n",
        "    right=customers_df,\n",
        "    how=\"left\",\n",
        "    left_on=\"customer_id\",\n",
        "    right_on=\"customer_id\"\n",
        ")\n",
        "\n",
        "order_counts = orders_customers_df.groupby(by=\"customer_state\").order_id.nunique().sort_values(ascending=False)\n",
        "\n",
        "plt.figure(figsize=(12,6))\n",
        "sns.barplot(x=order_counts.index, y=order_counts.values, color='blue')\n",
        "plt.xlabel(\"Customer State\")\n",
        "plt.ylabel(\"Number of Orders\")\n",
        "plt.title(\"Number of Orders by Customer State\")\n",
        "plt.xticks(rotation=45)\n",
        "plt.show()"
      ]
    },
    {
      "cell_type": "markdown",
      "source": [
        "####  Pie Chart - Status Customer (Active vs Non Active)"
      ],
      "metadata": {
        "id": "-TkyC56jcUP3"
      }
    },
    {
      "cell_type": "code",
      "execution_count": 30,
      "metadata": {
        "id": "Go0lCsvO8DC2",
        "colab": {
          "base_uri": "https://localhost:8080/",
          "height": 521
        },
        "outputId": "48a435bf-6122-4d69-8f80-d653a2fc742c"
      },
      "outputs": [
        {
          "output_type": "display_data",
          "data": {
            "text/plain": [
              "<Figure size 600x600 with 1 Axes>"
            ],
            "image/png": "[encoded data removed]"
          },
          "metadata": {}
        }
      ],
      "source": [
        "customer_id_in_orders_df = orders_df.customer_id.tolist()\n",
        "customers_df[\"status\"] = customers_df[\"customer_id\"].apply(lambda x: \"Active\" if x in customer_id_in_orders_df else \"Non Active\")\n",
        "status_counts = customers_df[\"status\"].value_counts()\n",
        "\n",
        "plt.figure(figsize=(6,6))\n",
        "plt.pie(status_counts, labels=status_counts.index, autopct='%1.1f%%', colors=['#4CAF50', '#FF5733'], startangle=90)\n",
        "plt.title(\"Customer Status Distribution\")\n",
        "plt.show()"
      ]
    },
    {
      "cell_type": "markdown",
      "source": [
        "##### Histogram - Distribusi Waktu Pengiriman"
      ],
      "metadata": {
        "id": "gy__-VnrcnzP"
      }
    },
    {
      "cell_type": "code",
      "source": [
        "orders_df[\"order_delivered_customer_date\"] = pd.to_datetime(orders_df[\"order_delivered_customer_date\"])\n",
        "delivery_time = orders_df[\"order_delivered_customer_date\"] - orders_df[\"order_delivered_customer_date\"]\n",
        "delivery_time = delivery_time.apply(lambda x: x.total_seconds())\n",
        "orders_df[\"delivery_time\"] = round(delivery_time/86400)\n",
        "\n",
        "plt.figure(figsize=(8,5))\n",
        "sns.histplot(orders_df[\"delivery_time\"].dropna(), bins=20, kde=True, color='purple')\n",
        "plt.xlabel(\"Delivery Time (Days)\")\n",
        "plt.title(\"Distribution of Delivery Time\")\n",
        "plt.show()"
      ],
      "metadata": {
        "colab": {
          "base_uri": "https://localhost:8080/",
          "height": 487
        },
        "id": "HDxxlcCkcsJ4",
        "outputId": "be3ca819-e2de-42a7-b7b4-883a6e899e66"
      },
      "execution_count": 36,
      "outputs": [
        {
          "output_type": "display_data",
          "data": {
            "text/plain": [
              "<Figure size 800x500 with 1 Axes>"
            ],
            "image/png": "[encoded data removed]"
          },
          "metadata": {}
        }
      ]
    },
    {
      "cell_type": "markdown",
      "source": [
        "######  Box Plot - Waktu Pengiriman Orders"
      ],
      "metadata": {
        "id": "jPsAXYhQcvm9"
      }
    },
    {
      "cell_type": "code",
      "source": [
        "plt.figure(figsize=(8,5))\n",
        "sns.boxplot(y=orders_df[\"delivery_time\"].dropna(), color='orange')\n",
        "plt.ylabel(\"Delivery Time (Days)\")\n",
        "plt.title(\"Box Plot of Delivery Time\")\n",
        "plt.show()"
      ],
      "metadata": {
        "colab": {
          "base_uri": "https://localhost:8080/",
          "height": 444
        },
        "id": "2_glikqic3H7",
        "outputId": "3eddff7f-de8f-4d67-9e38-2b77e16a2579"
      },
      "execution_count": 32,
      "outputs": [
        {
          "output_type": "display_data",
          "data": {
            "text/plain": [
              "<Figure size 800x500 with 1 Axes>"
            ],
            "image/png": "[encoded data removed]"
          },
          "metadata": {}
        }
      ]
    },
    {
      "cell_type": "markdown",
      "source": [
        "######  Membuat Scatter Plot - Hubungan Waktu Pengiriman dengan Urutan Pesanan"
      ],
      "metadata": {
        "id": "_htTvrdbddAF"
      }
    },
    {
      "cell_type": "code",
      "source": [
        "plt.figure(figsize=(8,5))\n",
        "sns.scatterplot(x=orders_df.index, y=orders_df[\"delivery_time\"], alpha=0.5, color='blue')\n",
        "plt.xlabel(\"Order Index\")\n",
        "plt.ylabel(\"Delivery Time (Days)\")\n",
        "plt.title(\"Scatter Plot of Delivery Time per Order\")\n",
        "plt.show()\n"
      ],
      "metadata": {
        "colab": {
          "base_uri": "https://localhost:8080/",
          "height": 487
        },
        "id": "8Z-ebgOhfDsu",
        "outputId": "f223dc7b-341a-4663-9a4a-09106ad6a189"
      },
      "execution_count": 37,
      "outputs": [
        {
          "output_type": "display_data",
          "data": {
            "text/plain": [
              "<Figure size 800x500 with 1 Axes>"
            ],
            "image/png": "[encoded data removed]"
          },
          "metadata": {}
        }
      ]
    },
    {
      "cell_type": "markdown",
      "source": [
        "###### Membuat Line Chart - Tren Jumlah Pesanan per Bulan"
      ],
      "metadata": {
        "id": "T8fohnfbfNpI"
      }
    },
    {
      "cell_type": "code",
      "source": [
        "orders_df[\"order_purchase_timestamp\"] = pd.to_datetime(orders_df[\"order_purchase_timestamp\"])\n",
        "orders_df.set_index(\"order_purchase_timestamp\", inplace=True)\n",
        "monthly_orders = orders_df.resample(\"M\").order_id.nunique()\n",
        "\n",
        "plt.figure(figsize=(12,6))\n",
        "plt.plot(monthly_orders.index, monthly_orders.values, marker='o', linestyle='-')\n",
        "plt.xlabel(\"Date\")\n",
        "plt.ylabel(\"Number of Orders\")\n",
        "plt.title(\"Monthly Order Trend\")\n",
        "plt.grid()\n",
        "plt.show()\n"
      ],
      "metadata": {
        "colab": {
          "base_uri": "https://localhost:8080/",
          "height": 477
        },
        "id": "9EmW1B-mfRj0",
        "outputId": "87f8bcc8-f576-4e57-b7c7-9cc084e7c314"
      },
      "execution_count": 38,
      "outputs": [
        {
          "output_type": "stream",
          "name": "stderr",
          "text": [
            "<ipython-input-38-6ed9691761da>:3: FutureWarning: 'M' is deprecated and will be removed in a future version, please use 'ME' instead.\n",
            "  monthly_orders = orders_df.resample(\"M\").order_id.nunique()\n"
          ]
        },
        {
          "output_type": "display_data",
          "data": {
            "text/plain": [
              "<Figure size 1200x600 with 1 Axes>"
            ],
            "image/png": "[encoded data removed]"
          },
          "metadata": {}
        }
      ]
    }
  ],
  "metadata": {
    "kernelspec": {
      "display_name": "Python 3",
      "language": "python",
      "name": "python3"
    },
    "language_info": {
      "name": "python",
      "version": "3.8.0 (tags/v3.8.0:fa919fd, Oct 14 2019, 19:21:23) [MSC v.1916 32 bit (Intel)]"
    },
    "orig_nbformat": 4,
    "vscode": {
      "interpreter": {
        "hash": "972b3bf27e332e87b5379f2791f6ef9dfc79c71018c370b0d7423235e20fe4d7"
      }
    },
    "colab": {
      "provenance": [],
      "include_colab_link": true
    }
  },
  "nbformat": 4,
  "nbformat_minor": 0
}